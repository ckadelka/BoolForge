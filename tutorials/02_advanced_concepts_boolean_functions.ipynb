{
 "cells": [
  {
   "cell_type": "markdown",
   "id": "Nti1VE8-Dl_5",
   "metadata": {
    "id": "Nti1VE8-Dl_5"
   },
   "source": [
    "# BoolForge Tutorial #2: Advanced concepts related to Boolean functions\n",
    "\n",
    "In this tutorial, we will further explore the `BooleanFunction` class — the foundation of BoolForge. You will learn how to compute advanced properties of Boolean functions such as:\n",
    "- the symmetry among inputs, or \n",
    "- the activities and sensitivity of a Boolean function."
   ]
  },
  {
   "cell_type": "code",
   "execution_count": 1,
   "id": "d6aba3ec",
   "metadata": {
    "executionInfo": {
     "elapsed": 8118,
     "status": "ok",
     "timestamp": 1729274660920,
     "user": {
      "displayName": "Bernard Lidicky",
      "userId": "15999393152596956268"
     },
     "user_tz": 300
    },
    "id": "d6aba3ec"
   },
   "outputs": [],
   "source": [
    "import boolforge\n",
    "import numpy as np"
   ]
  },
  {
   "cell_type": "markdown",
   "id": "1d2108ff",
   "metadata": {},
   "source": [
    "## Exploring symmetry groups of Boolean functions\n",
    "\n",
    "Symmetries in Boolean functions are permutations of input variables that leave the function unchanged. They reveal redundancy, equivalence among variables, and often relate to biological modularity or robustness."
   ]
  },
  {
   "cell_type": "code",
   "execution_count": 2,
   "id": "a1a56603",
   "metadata": {},
   "outputs": [
    {
     "name": "stdout",
     "output_type": "stream",
     "text": [
      "x1\tx2\tx3\t|\tf\tg\th\n",
      "-------------------------------------------------\n",
      "0\t0\t0\t|\t0\t0\t0\n",
      "0\t0\t1\t|\t1\t0\t0\n",
      "0\t1\t0\t|\t1\t0\t1\n",
      "0\t1\t1\t|\t0\t1\t0\n",
      "1\t0\t0\t|\t1\t1\t1\n",
      "1\t0\t1\t|\t0\t1\t1\n",
      "1\t1\t0\t|\t0\t1\t1\n",
      "1\t1\t1\t|\t1\t1\t1\n",
      "\n",
      "Symmetry group 1 of f: ['x' 'y' 'z']\n",
      "\n",
      "Symmetry group 1 of g: ['x1']\n",
      "Symmetry group 2 of g: ['x2' 'x3']\n",
      "\n",
      "Symmetry group 1 of h: ['a']\n",
      "Symmetry group 2 of h: ['b']\n",
      "Symmetry group 3 of h: ['c']\n",
      "\n"
     ]
    }
   ],
   "source": [
    "import boolforge\n",
    "# Example: a fully symmetric 3-variable Boolean function\n",
    "f = boolforge.BooleanFunction('(x + y + z) % 2')\n",
    "\n",
    "# Example: a partially symmetric 3-variable Boolean function\n",
    "g = boolforge.BooleanFunction('x1 | (x2 & x3)')\n",
    "\n",
    "# Example: a non-symmetric 3-variable Boolean function\n",
    "h = boolforge.BooleanFunction('a | (b & ~c)')\n",
    "\n",
    "labels = ['f','g','h']\n",
    "\n",
    "boolforge.display_truth_table(f,g,h,labels=labels)\n",
    "print()\n",
    "\n",
    "for func,label in zip([f,g,h],labels):\n",
    "    symmetry_groups = func.get_symmetry_groups()\n",
    "    for i,symmetry_group in enumerate(symmetry_groups):\n",
    "        print(f\"Symmetry group {i+1} of {label}: {func.variables[np.array(symmetry_group)]}\")\n",
    "    print()"
   ]
  },
  {
   "cell_type": "markdown",
   "id": "99660fd9",
   "metadata": {},
   "source": [
    "The first function `f` is fully symmetric. That is, all variables are part of the same symmetry group. \n",
    "\n",
    "The second function `g` is partially symmetric. While x2 and x3 can be interchanged without ever changing the function output, this is not the case for x1. \n",
    "\n",
    "The last function `h` has three symmetry groups. None of its variables can be interchanged without changing the function output."
   ]
  },
  {
   "cell_type": "markdown",
   "id": "2901dee5",
   "metadata": {
    "id": "2901dee5"
   },
   "source": [
    "## Activities and sensitivities\n",
    "\n",
    "The *activity* of an input $x_i$ to a Boolean function $f$ describes how sensitive the function output is to changes in this input. That is, $$a(f,x_i) = \\frac{1}{2^n}\\sum_{\\mathbf x\\in \\{0,1\\}^n} f(\\mathbf x) \\neq f(\\mathbf x \\oplus e_i) \\in [0,1],$$\n",
    "where $e_i=(0,\\ldots,0,1,0,\\ldots,0)$ is the ith unit vector.\n",
    "\n",
    "The *average sensitivity* of a Boolean function describes how sensitive its output is to changes in its inputs, specifically to a random single-bit flip. The average sensitivity is the sum of all its activities. That is, $$S(f) = \\sum_{i=1}^n a(f,x_i) = \\frac{1}{2^n}\\sum_{\\mathbf x\\in \\{0,1\\}^n} \\sum_{i=1}^n f(\\mathbf x) \\neq f(\\mathbf x \\oplus e_i) \\in [0,n].$$\n",
    "Division by $n$ yields the *normalized average sensitivity* $s(f)$, which can be readily compared between functions of different degree $n$:\n",
    "$$s(f) = \\frac {S(f)}n  \\in [0,1].$$\n",
    "\n",
    "To investigate how to compute the activtities and the average sensitivity in `BoolForge`, we work with the linear / parity function / XOR function `f` from above, as well as with the function `g`. By default, activities and sensitivities are computed by Monte Carlo Simulation (which is possible, even for functions with very large degree). To ensure an exact computation, we specify `EXACT=True`."
   ]
  },
  {
   "cell_type": "code",
   "execution_count": 19,
   "id": "67a5a393",
   "metadata": {},
   "outputs": [
    {
     "name": "stdout",
     "output_type": "stream",
     "text": [
      "Activities of f: [1. 1. 1.]\n",
      "Activities of g: [0.75 0.25 0.25]\n",
      "Normalized average sensitivity of f: 1.0\n",
      "Normalized average sensitivity of g: 0.4166666666666667\n"
     ]
    }
   ],
   "source": [
    "EXACT = True\n",
    "print('Activities of f:',f.get_activities(EXACT=EXACT))\n",
    "print('Activities of g:',g.get_activities(EXACT=EXACT))\n",
    "print('Normalized average sensitivity of f:',f.get_average_sensitivity(EXACT=EXACT))\n",
    "print('Normalized average sensitivity of g:',g.get_average_sensitivity(EXACT=EXACT))"
   ]
  },
  {
   "cell_type": "markdown",
   "id": "86e7cfcd",
   "metadata": {},
   "source": [
    "A single-bit change in `f` always changes its output, thus the normalized average sensitivity (normalized by default) of 1. On the other hand, only 75% of $x_1$ flips and 25% of $x_2$ or $x_3$ flips change the output of `g`. Thus, the normalized average sensitivity of `g` is $\\frac 13*75\\% + \\frac 23 25\\% = \\frac{5}{12}$.\n",
    "\n",
    "For functions of many inputs, we require `EXACT=False` (the default). Also, when generating such a function it not recommended to require that all inputs are essential, as (i) this is almost certainly the case anyways (the probability that an n-input function does not depend on input $x_i$ is given $1/2^{n-1}$), and (ii) checking for input degeneracy is NP-hard (i.e., very computationally expensive). We thus set `ALLOW_DEGENERATE_FUNCTIONS=True`. You find more on this in the next tutorial. "
   ]
  },
  {
   "cell_type": "code",
   "execution_count": 18,
   "id": "7691521f",
   "metadata": {},
   "outputs": [
    {
     "name": "stdout",
     "output_type": "stream",
     "text": [
      "Mean of all n=25 activities of h: 0.49751200000000007\n",
      "Standard deviation of all n=25 activities of h: 0.004486541652542627\n",
      "Sensitivity of h: 0.501072\n"
     ]
    }
   ],
   "source": [
    "# Define a Boolean function with 25 inputs and compute activities and sensitivity by Monte Carlo simulation\n",
    "EXACT = False\n",
    "nsim = 500\n",
    "n = 25\n",
    "h = boolforge.random_function(n=n,ALLOW_DEGENERATE_FUNCTIONS=True) \n",
    "activities = h.get_activities(EXACT=EXACT)\n",
    "print(f'Mean of all n={n} activities of h: {np.mean(activities)}')\n",
    "print(f'Standard deviation of all n={n} activities of h: {np.std(activities)}')\n",
    "print('Normalized average sensitivity of h:',h.get_average_sensitivity(EXACT=EXACT))"
   ]
  },
  {
   "cell_type": "markdown",
   "id": "651c20bc",
   "metadata": {},
   "source": [
    "This shows that for a random Boolean function, the expected value of its activities is 0.5, as is its normalized average sensitivity."
   ]
  }
 ],
 "metadata": {
  "colab": {
   "provenance": [
    {
     "file_id": "1uYGafWSuMhd9QxcQkz2tTMTeFsLb_VHA",
     "timestamp": 1696210918065
    }
   ]
  },
  "kernelspec": {
   "display_name": "envpy312",
   "language": "python",
   "name": "python3"
  },
  "language_info": {
   "codemirror_mode": {
    "name": "ipython",
    "version": 3
   },
   "file_extension": ".py",
   "mimetype": "text/x-python",
   "name": "python",
   "nbconvert_exporter": "python",
   "pygments_lexer": "ipython3",
   "version": "3.12.3"
  }
 },
 "nbformat": 4,
 "nbformat_minor": 5
}
