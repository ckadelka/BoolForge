{
 "cells": [
  {
   "cell_type": "markdown",
   "id": "Nti1VE8-Dl_5",
   "metadata": {
    "id": "Nti1VE8-Dl_5"
   },
   "source": [
    "# BoolForge Tutorial #3: Canalization\n",
    "\n",
    "In this tutorial, we will focus on canalization, a key property of Boolean functions, specifically those that constitute biologically meaningful update rules in biological networks. \n",
    "You will learn how to:\n",
    "- determine if a Boolean function is canalizing, k-canalizing and nested canalizing,\n",
    "- compute the canalizing layer structure of any Boolean function, and\n",
    "- compute properties related to collective canalization, such as the canalizing strength or the effective degree and input redundancy."
   ]
  },
  {
   "cell_type": "code",
   "execution_count": 43,
   "id": "d6aba3ec",
   "metadata": {
    "executionInfo": {
     "elapsed": 8118,
     "status": "ok",
     "timestamp": 1729274660920,
     "user": {
      "displayName": "Bernard Lidicky",
      "userId": "15999393152596956268"
     },
     "user_tz": 300
    },
    "id": "d6aba3ec"
   },
   "outputs": [],
   "source": [
    "import boolforge\n",
    "import numpy as np\n",
    "import matplotlib.pyplot as plt"
   ]
  },
  {
   "cell_type": "markdown",
   "id": "1d2108ff",
   "metadata": {},
   "source": [
    "## Canalizing variables and layers\n",
    "\n",
    "A Boolean function $f(x_1, \\ldots, x_n)$ is *canalizing* if there exists at least one *canalizing variable* $x_i$ and a *canalizing input value* $a \\in \\{0, 1\\}$ such that $f(x_1, \\ldots,x_i = a, \\ldots, x_n)=b$, where $b\\in\\{0,1\\}$ is a constant, the *canalized output*.\n",
    "\n",
    "A Boolean function is *k-canalizing* if it has at least k conditionally canalizing variables. This is checked recursively: after fixing a canalizing variable $x_i$ to its non-canalizing input value $\\bar a$, the subfunction $f(x_1,\\ldots,x_{i-1},x_{i+1},\\ldots,x_n)$ must itself contain another canalizing variable, and so on. For a given function, the maximal possible value of k is defined as its *canalizing depth*. If all variables are conditionally canalizing (i.e., if the canalizing depth is $n$), the function is called *nested canalizing*. Biological networks are heavily enriched for nested canalizing functions as we explore in a later tutorial.\n",
    "\n",
    "Per (He and Macauley, Physica D, 2016), any Boolean function can be decomposed into a unique standard monomial form by recursively identifying and removing all conditionally canalizing variables (this set of variables is called a *canalizing layer*). Each variable of a Boolean function appears in exactly one layer, or (if it is not conditionally canalizing) it is part of the non-canalizing core function that has to be evaluated only if all conditionally canalizing variables receive their non-canalizing input value. The *canalizing layer structure* $[k_1,\\ldots,k_r]$ describes the number of variables in each canalizing layer. We thus have $r\\geq 0$, $k_i\\geq 1$ and $k_1+\\cdots+k_r$.\n",
    "\n",
    "In the following code, we define four 3-input functions with different canalizing properties."
   ]
  },
  {
   "cell_type": "code",
   "execution_count": 54,
   "id": "a1a56603",
   "metadata": {},
   "outputs": [
    {
     "name": "stdout",
     "output_type": "stream",
     "text": [
      "x0\tx1\tx2\t|\tf\tg\th\tk\n",
      "---------------------------------------------------------\n",
      "0\t0\t0\t|\t0\t1\t0\t0\n",
      "0\t0\t1\t|\t1\t0\t0\t0\n",
      "0\t1\t0\t|\t1\t0\t0\t0\n",
      "0\t1\t1\t|\t0\t1\t1\t1\n",
      "1\t0\t0\t|\t1\t1\t0\t1\n",
      "1\t0\t1\t|\t0\t1\t0\t1\n",
      "1\t1\t0\t|\t0\t1\t0\t1\n",
      "1\t1\t1\t|\t1\t1\t0\t1\n"
     ]
    }
   ],
   "source": [
    "# Example: a non-canalizing XOR function.\n",
    "f = boolforge.BooleanFunction('(x0 + x1 + x2) % 2')\n",
    "\n",
    "# Example: a 1-canalizing function\n",
    "g = boolforge.BooleanFunction('(x0 | (x1 & x2 | ~x1 & ~x2)) % 2')\n",
    "\n",
    "# Example: a nested canalizing (i.e., 3-canalizing) function with 3 canalizing variables in the outer layer\n",
    "h = boolforge.BooleanFunction('~x0 & x1 & x2')\n",
    "\n",
    "# Example: a nested canalizing (i.e., 3-canalizing) function with 1 canalizing variable in the outer layer and two in the inner layer\n",
    "k = boolforge.BooleanFunction('x0 | (x1 & x2)')\n",
    "\n",
    "\n",
    "labels = ['f','g','h','k']\n",
    "\n",
    "boolforge.display_truth_table(f,g,h,k,labels=labels)"
   ]
  },
  {
   "cell_type": "markdown",
   "id": "788b1861",
   "metadata": {},
   "source": [
    "For each function, we can determine whether it is canalizing and/or nested canalizing. This is determined by the canalizing depth (the number of conditionally canalizing variables), which we can also directly compute. As a reminder, an n-input function is canalizing if its canalizing depth is non-zero and nested canalizing if its canalizing depth equals n."
   ]
  },
  {
   "cell_type": "code",
   "execution_count": 32,
   "id": "21a919ec",
   "metadata": {},
   "outputs": [
    {
     "name": "stdout",
     "output_type": "stream",
     "text": [
      "Canalizing depth of f: 0\n",
      "f is canalizing: False\n",
      "f is nested canalizing: False\n",
      "\n",
      "Canalizing depth of g: 1\n",
      "g is canalizing: True\n",
      "g is nested canalizing: False\n",
      "\n",
      "Canalizing depth of h: 3\n",
      "h is canalizing: True\n",
      "h is nested canalizing: True\n",
      "\n",
      "Canalizing depth of k: 3\n",
      "k is canalizing: True\n",
      "k is nested canalizing: True\n",
      "\n"
     ]
    }
   ],
   "source": [
    "for func,label in zip([f,g,h,k],labels):\n",
    "    canalizing_depth = func.get_canalizing_depth()\n",
    "    print(f'Canalizing depth of {label}: {canalizing_depth}')     \n",
    "    \n",
    "    CANALIZING = func.is_canalizing()\n",
    "    print(f'{label} is canalizing: {CANALIZING}')\n",
    "\n",
    "    NESTED_CANALIZING = func.is_k_canalizing(k=func.n)\n",
    "    print(f'{label} is nested canalizing: {NESTED_CANALIZING}')\n",
    "\n",
    " \n",
    "\n",
    "    print()  "
   ]
  },
  {
   "cell_type": "markdown",
   "id": "f1d8dda8",
   "metadata": {},
   "source": [
    "We can also compute the entire canalizing layer structure, which yields information on the canalizing input values, the canalized output values, the order of the canalizing variables, the layer structure and the core function."
   ]
  },
  {
   "cell_type": "code",
   "execution_count": 33,
   "id": "970e5586",
   "metadata": {},
   "outputs": [
    {
     "name": "stdout",
     "output_type": "stream",
     "text": [
      "Canalizing input values of f: []\n",
      "Canalized output values of f: []\n",
      "Order of canalizing variables of f: []\n",
      "Layer structure of f: []\n",
      "Number of canalizing layers of f: 0\n",
      "Non-canalizing core function of f: [0 1 1 0 1 0 0 1]\n",
      "\n",
      "Canalizing input values of g: [1]\n",
      "Canalized output values of g: [1]\n",
      "Order of canalizing variables of g: [0]\n",
      "Layer structure of g: [1]\n",
      "Number of canalizing layers of g: 1\n",
      "Non-canalizing core function of g: [1 0 0 1]\n",
      "\n",
      "Canalizing input values of h: [1 0 0]\n",
      "Canalized output values of h: [0 0 0]\n",
      "Order of canalizing variables of h: [0 1 2]\n",
      "Layer structure of h: [3]\n",
      "Number of canalizing layers of h: 1\n",
      "Non-canalizing core function of h: [1]\n",
      "\n",
      "Canalizing input values of k: [1 0 0]\n",
      "Canalized output values of k: [1 0 0]\n",
      "Order of canalizing variables of k: [0 1 2]\n",
      "Layer structure of k: [1, 2]\n",
      "Number of canalizing layers of k: 2\n",
      "Non-canalizing core function of k: [1]\n",
      "\n"
     ]
    }
   ],
   "source": [
    "for func,label in zip([f,g,h,k],labels):\n",
    "    canalizing_info = func.get_layer_structure()\n",
    "    print(f'Canalizing input values of {label}: {canalizing_info['CanalizingInputs']}')\n",
    "    print(f'Canalized output values of {label}: {canalizing_info['CanalizedOutputs']}')\n",
    "    print(f'Order of canalizing variables of {label}: {canalizing_info['OrderOfCanalizingVariables']}')\n",
    "    print(f'Layer structure of {label}: {canalizing_info['LayerStructure']}')\n",
    "    print(f'Number of canalizing layers of {label}: {canalizing_info['NumberOfLayers']}')\n",
    "    print(f'Non-canalizing core function of {label}: {canalizing_info['CoreFunction']}')\n",
    "    print()\n",
    "\n"
   ]
  },
  {
   "cell_type": "markdown",
   "id": "99660fd9",
   "metadata": {},
   "source": [
    "Consider, for example, the output for `h`. The canalizing input variables corresponding to the canalizing variables $x_0, x_1, x_2$ are $1,0,0$, respectively. Likewise, the corresponding canalized output values are all 0. This tells us that `h` can be evaluated as follows:\n",
    "$$h(x_0,x_1,x_2) = \n",
    "\\begin{cases}\n",
    "0 & \\ \\text{if}\\ x_0 = 1,\\\\\n",
    "0 & \\ \\text{if}\\ x_0 \\neq 1 \\ \\text{and} \\ x_1 = 0,\\\\\n",
    "0 & \\ \\text{if}\\ x_0 \\neq 1 \\ \\text{and} \\ x_1 \\neq 0 \\ \\text{and} \\ x_2 = 0,\\\\\n",
    "1 & \\ \\text{if}\\ x_0 \\neq 1 \\ \\text{and} \\ x_1 \\neq 0 \\ \\text{and} \\ x_2 \\neq 0.\\end{cases}\n",
    "$$\n",
    "Since $x_1$ and $x_2$ are both part of the second canalizing layer, `h` can equivalently be evaluated as:\n",
    "$$h(x_0,x_1,x_2) = \n",
    "\\begin{cases}\n",
    "0 & \\ \\text{if}\\ x_0 = 1,\\\\\n",
    "0 & \\ \\text{if}\\ x_0 \\neq 1 \\ \\text{and} \\ x_2 = 0,\\\\\n",
    "0 & \\ \\text{if}\\ x_0 \\neq 1 \\ \\text{and} \\ x_2 \\neq 0 \\ \\text{and} \\ x_1 = 0,\\\\\n",
    "1 & \\ \\text{if}\\ x_0 \\neq 1 \\ \\text{and} \\ x_2 \\neq 0 \\ \\text{and} \\ x_1 \\neq 0.\\end{cases}\n",
    "$$"
   ]
  },
  {
   "cell_type": "markdown",
   "id": "2901dee5",
   "metadata": {
    "id": "2901dee5"
   },
   "source": [
    "## Collective canalization\n",
    "\n",
    "More recently, the idea of collective canalization was introduced (Reichhardt & Bassler, Journal of Physics A, 2007). Rather than defining canalization as a property of each individual variable of a Boolean function, it is considered as a property of the function itself. Extending the basic definition of canalization, a Boolean n-input function is *k-set canalizing* if there exists a set of k variables such that setting these variables to specific values forces the output of the function, irrespective of the other n - k inputs (Kadelka et al, Advances in Applied Mathematics, 2023). Naturally, \n",
    "- any Boolean function is n-set canalizing,\n",
    "- the only two Boolean functions that are not $n-1$-set canalizing are the parity / XOR functions, and\n",
    "- the 1-set canalizing functions are exactly the canalizing functions.\n",
    "\n",
    "For any function and a given k, we can quantify the proportion of k-sets that collectively canalize this function (i.e., suffice to determine its output). This is called the *k-set canalizing proportion* $P_k(f)$.\n",
    "It is fairly obvious that\n",
    "- nested canalizing functions of a single layer such as `h` are the non-degenerated functions with highest k-set canalizing proportion $P_k(f) = 1-1/2^k$, and\n",
    "- $P_{k-1}(f) \\leq P_k(f)$, i.e., more knowledge about a function's inputs cannot result in less knowledge about its output,\n",
    "- the $n-1$-set canalizing proportion $P_{n-1}(f)$ is 1 minus the function's normalized average sensitivity.\n",
    "\n",
    "We can compute the k-set canalizing proportions for the four 3-input functions:"
   ]
  },
  {
   "cell_type": "code",
   "execution_count": 40,
   "id": "67a5a393",
   "metadata": {},
   "outputs": [
    {
     "name": "stdout",
     "output_type": "stream",
     "text": [
      "1-set canalizing proportions of f: 0.0\n",
      "2-set canalizing proportions of f: 0.0\n",
      "Normalized average sensitivity of f: 1.0\n",
      "3-set canalizing proportions of f: 1.0\n",
      "\n",
      "1-set canalizing proportions of g: 0.16666666666666666\n",
      "2-set canalizing proportions of g: 0.5\n",
      "Normalized average sensitivity of g: 0.5\n",
      "3-set canalizing proportions of g: 1.0\n",
      "\n",
      "1-set canalizing proportions of h: 0.5\n",
      "2-set canalizing proportions of h: 0.75\n",
      "Normalized average sensitivity of h: 0.25\n",
      "3-set canalizing proportions of h: 1.0\n",
      "\n",
      "1-set canalizing proportions of k: 0.16666666666666666\n",
      "2-set canalizing proportions of k: 0.5833333333333334\n",
      "Normalized average sensitivity of k: 0.4166666666666667\n",
      "3-set canalizing proportions of k: 1.0\n",
      "\n"
     ]
    }
   ],
   "source": [
    "for func,label in zip([f,g,h,k],labels):\n",
    "    print(f'1-set canalizing proportions of {label}: {func.get_kset_canalizing_proportion(k=1)}')\n",
    "    print(f'2-set canalizing proportions of {label}: {func.get_kset_canalizing_proportion(k=2)}')\n",
    "    print(f'Normalized average sensitivity of {label}: {func.get_average_sensitivity(EXACT=True)}')\n",
    "    print(f'3-set canalizing proportions of {label}: {func.get_kset_canalizing_proportion(k=3)}')\n",
    "    print()\n"
   ]
  },
  {
   "cell_type": "markdown",
   "id": "e978926c",
   "metadata": {},
   "source": [
    "The *canalizing strength* is a measure to quantify the degree of canalization of any Boolean function (Kadelka et al, Advances in Applied Mathematics, 2023). It is computed as a weighted average of the k-set canalizing proportions. It is 1 for the most canalizing non-degenerated functions (namely, nested canalizing functions of a single canalizing layer such as `h`) and 0 for the least canalizing functions (namely, parity / XOR functions such as `f`). For all other non-degenerated Boolen functions it is within $(0,1)$.\n",
    "\n",
    "It helps to consider the canalizing strength as a probability: Given that I know a random number of function inputs (drawn uniformly at random from $1,\\ldots,n-1$), how likely am I to already know the function output?"
   ]
  },
  {
   "cell_type": "code",
   "execution_count": 41,
   "id": "8275851d",
   "metadata": {},
   "outputs": [
    {
     "name": "stdout",
     "output_type": "stream",
     "text": [
      "Canalizing strength of f: 0.0\n",
      "\n",
      "Canalizing strength of g: 0.5\n",
      "\n",
      "Canalizing strength of h: 1.0\n",
      "\n",
      "Canalizing strength of k: 0.5555555555555556\n",
      "\n"
     ]
    }
   ],
   "source": [
    "for func,label in zip([f,g,h,k],labels):\n",
    "    canalizing_strength  = func.get_canalizing_strength()\n",
    "    print(f'Canalizing strength of {label}: {canalizing_strength}')\n",
    "    print()"
   ]
  },
  {
   "cell_type": "markdown",
   "id": "628dc116",
   "metadata": {},
   "source": [
    "An enumeration of all non-degenerated 3-input Boolean functions reveals the distribution of the canalizing strength. Note that this brute-force code can also run (in less than a minute) for all $2^{2^4}=2^{16}=65,536$ 4-input functions but will take days for all $2^{2^5}=2^{32}=4,294,967,296$ 5-input functions."
   ]
  },
  {
   "cell_type": "code",
   "execution_count": 52,
   "id": "6b9df367",
   "metadata": {},
   "outputs": [
    {
     "data": {
      "text/plain": [
       "Text(0, 0.5, 'Count')"
      ]
     },
     "execution_count": 52,
     "metadata": {},
     "output_type": "execute_result"
    },
    {
     "data": {
      "image/png": "[encoded data removed]",
      "text/plain": [
       "<Figure size 640x480 with 1 Axes>"
      ]
     },
     "metadata": {},
     "output_type": "display_data"
    }
   ],
   "source": [
    "n = 3\n",
    "all_functions  = boolforge.get_left_side_of_truth_table(2**n)\n",
    "\n",
    "canalizing_strengths = []\n",
    "for binary_vector in all_functions:\n",
    "    func = boolforge.BooleanFunction(f = binary_vector)\n",
    "    if func.is_degenerated() == False:\n",
    "        canalizing_strength  = func.get_canalizing_strength()\n",
    "        canalizing_strengths.append(canalizing_strength)\n",
    "\n",
    "fig,ax = plt.subplots()\n",
    "ax.hist(canalizing_strengths,bins=50)\n",
    "ax.set_xlabel('canalizing strength')\n",
    "ax.set_ylabel('Count')"
   ]
  },
  {
   "cell_type": "markdown",
   "id": "83ed6112",
   "metadata": {},
   "source": [
    "## Canalization as a measure of input redundancy\n",
    "\n",
    "Canalization, symmetry and redundancy are related concepts. A highly symmetry Boolean function with few (e.g., one) symmetry group exhibits high input redundancy and is on average more canalizing, irrespective of the measure of canalization. Recently, it was shown that almost all Boolean functions (except the parity / XOR functions) exhibit some level of *input redundancy* (Gates et al., PNAS, 2021). The input redundancy of a variable is defined as 1 minus its *edge effectiveness*, which describes the proportion of times that this variable is needed to determine the output of the function. Edge effectiveness is very similar to the activity of a variable but is not the same (the difference is defined as *excess canalization*). The sum of all edge effectivenesses of the inputs of a function is known as its *effective degree*. The average input redundancy serves as a measure of the canalization in a function.\n",
    "\n",
    "In `BoolForge`, all these quantities can be computed, however not directly. Instead, they are computed from the `CANA` package, which uses simulation and needs to be installed (`pip install cana`) to enjoy this functionality. To exemplify this, we reconsider the four 3-input functions from above."
   ]
  },
  {
   "cell_type": "code",
   "execution_count": 61,
   "id": "c1c6c988",
   "metadata": {},
   "outputs": [
    {
     "name": "stdout",
     "output_type": "stream",
     "text": [
      "Edge effectiveness of the variables of f: [1.0, 1.0, 1.0]\n",
      "Activities of the variables of f: [1. 1. 1.]\n",
      "Excess canalization of the variables of f: [0. 0. 0.]\n",
      "Effective degree of f: 3.0\n",
      "Average edge effectiveness of f: 1.0\n",
      "Normalized input redundancy of f: 0.0\n",
      "\n",
      "Edge effectiveness of the variables of g: [0.625, 0.625, 0.625]\n",
      "Activities of the variables of g: [0.4974 0.5036 0.5036]\n",
      "Excess canalization of the variables of g: [0.1276 0.1214 0.1214]\n",
      "Effective degree of g: 1.875\n",
      "Average edge effectiveness of g: 0.625\n",
      "Normalized input redundancy of g: 0.375\n",
      "\n",
      "Edge effectiveness of the variables of h: [0.41666666666666663, 0.41666666666666663, 0.41666666666666663]\n",
      "Activities of the variables of h: [0.2502 0.2502 0.2511]\n",
      "Excess canalization of the variables of h: [0.16646667 0.16646667 0.16556667]\n",
      "Effective degree of h: 1.25\n",
      "Average edge effectiveness of h: 0.4166666666666667\n",
      "Normalized input redundancy of h: 0.5833333333333334\n",
      "\n",
      "Edge effectiveness of the variables of k: [0.8125, 0.375, 0.375]\n",
      "Activities of the variables of k: [0.7525 0.2445 0.2441]\n",
      "Excess canalization of the variables of k: [0.06   0.1305 0.1309]\n",
      "Effective degree of k: 1.5625\n",
      "Average edge effectiveness of k: 0.5208333333333334\n",
      "Normalized input redundancy of k: 0.4791666666666667\n",
      "\n"
     ]
    }
   ],
   "source": [
    "for func,label in zip([f,g,h,k],labels):\n",
    "    edge_effectiveness  = func.get_edge_effectiveness()\n",
    "    activities  = func.get_activities()\n",
    "    effective_degree = func.get_effective_degree()\n",
    "    input_redundancy = func.get_input_redundancy()\n",
    "    print(f'Edge effectiveness of the variables of {label}: {edge_effectiveness}')\n",
    "    print(f'Activities of the variables of {label}: {activities}')\n",
    "    print(f'Excess canalization of the variables of {label}: {edge_effectiveness - activities}')\n",
    "    print(f'Effective degree of {label}: {effective_degree}')\n",
    "    print(f'Average edge effectiveness of {label}: {effective_degree/n}')\n",
    "    print(f'Normalized input redundancy of {label}: {input_redundancy}')\n",
    "    print()"
   ]
  }
 ],
 "metadata": {
  "colab": {
   "provenance": [
    {
     "file_id": "1uYGafWSuMhd9QxcQkz2tTMTeFsLb_VHA",
     "timestamp": 1696210918065
    }
   ]
  },
  "kernelspec": {
   "display_name": "envpy312",
   "language": "python",
   "name": "python3"
  },
  "language_info": {
   "codemirror_mode": {
    "name": "ipython",
    "version": 3
   },
   "file_extension": ".py",
   "mimetype": "text/x-python",
   "name": "python",
   "nbconvert_exporter": "python",
   "pygments_lexer": "ipython3",
   "version": "3.12.3"
  }
 },
 "nbformat": 4,
 "nbformat_minor": 5
}
