{
 "cells": [
  {
   "cell_type": "markdown",
   "id": "8f37ac62",
   "metadata": {},
   "source": [
    "# Boolean Functions & Networks Toolbox — Interactive Tutorials\n",
    "\n",
    "Welcome! These notebooks walk you through the main features of the provided toolbox for **analysis** and **random generation** of Boolean functions and networks (with applications to gene regulatory networks).\n",
    "\n",
    "**How to use these notebooks**\n",
    "- Run the first cell to import the toolbox from the local files you provided.\n",
    "- Each section contains small runnable examples, expected outputs, and short exercises.\n",
    "- Cells marked **🔧 Try it** are meant for you to edit and explore.\n",
    "\n",
    "> If you update the Python files, just re-run the import cell to pick up changes.\n"
   ]
  },
  {
   "cell_type": "markdown",
   "id": "4b561d00",
   "metadata": {},
   "source": [
    "## 0. Setup & Imports"
   ]
  },
  {
   "cell_type": "code",
   "execution_count": null,
   "id": "3f3ec39b",
   "metadata": {},
   "outputs": [],
   "source": [
    "import numpy as np\n",
    "import boolforge\n",
    "\n",
    "print('boolforge functions:', len([f for f in dir(boolforge) if callable(getattr(boolforge,f, None)) and not f.startswith('_')]))\n",
    "print([f for f in dir(boolforge) if callable(getattr(boolforge,f, None)) and not f.startswith('_')])"
   ]
  },
  {
   "cell_type": "markdown",
   "id": "1bc26f49",
   "metadata": {},
   "source": [
    "## 1. Building a small Boolean Network\n",
    "We'll build a 3-node network with simple update rules and examine basic properties."
   ]
  },
  {
   "cell_type": "code",
   "execution_count": 25,
   "id": "c385ff32",
   "metadata": {},
   "outputs": [
    {
     "name": "stdout",
     "output_type": "stream",
     "text": [
      "[0 1 1] -> [1 0 0]\n",
      "{'Attractors': [[3], [1]], 'NumberOfAttractors': 2, 'BasinSizes': [3, 5], 'AttractorDict': {0: 0, 3: 0, 1: 1, 2: 1, 4: 1, 5: 1, 6: 0, 7: 1}, 'STG': {0: 3, 1: 1, 2: 1, 3: 3, 4: 1, 5: 4, 6: 3, 7: 1}}\n"
     ]
    }
   ],
   "source": [
    "# Define update rules by truth tables\n",
    "\n",
    "# Network: x0 <- x2 AND x3 ; x1 <- x1 OR x3 ; x2 <- NOT x1\n",
    "F = [\n",
    "    [0,0,0,1],     # AND on 2 inputs (x1,x2)\n",
    "    [0,0,0,1],     # OR on 2 inputs (x0,x2)\n",
    "    [1,0]          # identity on 1 input (x1)\n",
    "]\n",
    "I = [\n",
    "    [1,2],  # regulators of x0 are x1,x2\n",
    "    [0,2],  # regulators of x1 are x0,x2\n",
    "    [1],    # regulator of x2 is x1\n",
    "]\n",
    "\n",
    "bn = boolforge.BooleanNetwork(F,I)\n",
    "\n",
    "# Evaluate synchronous update from a given state\n",
    "state = np.array([0,1,1], dtype=int)\n",
    "next_state = bn.update_network_synchronously(state)\n",
    "print(f\"{state} -> {next_state}\")\n",
    "\n",
    "result = bn.get_attractors_synchronous_exact()\n",
    "print(result)"
   ]
  },
  {
   "cell_type": "markdown",
   "id": "3c5afcec",
   "metadata": {},
   "source": [
    "## 2. State space, attractors, and basins"
   ]
  },
  {
   "cell_type": "code",
   "execution_count": 26,
   "id": "f7e0bda7",
   "metadata": {},
   "outputs": [
    {
     "name": "stdout",
     "output_type": "stream",
     "text": [
      "All attractors assuming a synchronous update scheme\n",
      "Attractors: [[3], [1]]\n",
      "NumberOfAttractors: 2\n",
      "BasinSizes: [3, 5]\n",
      "AttractorDict: {0: 0, 3: 0, 1: 1, 2: 1, 4: 1, 5: 1, 6: 0, 7: 1}\n",
      "STG: {0: 3, 1: 1, 2: 1, 3: 3, 4: 1, 5: 4, 6: 3, 7: 1}\n",
      "\n",
      "Steady states assuming an asynchronous update scheme\n",
      "SteadyStates: [np.int64(-4), 4, 7]\n",
      "NumberOfSteadyStates: 3\n",
      "BasinSizes: [5, 2, 1]\n",
      "SteadyStateDict: {np.int64(-4): 0, 4: 1, 7: 2}\n",
      "FunctionTransitionDict: {(0, 1): np.int64(2), (np.int64(2), 2): np.int64(1), (np.int64(1), 1): np.int64(-1), (np.int64(-1), 2): np.int64(0), (np.int64(0), 0): np.int64(-4), (np.int64(-4), 1): np.int64(-4), (np.int64(-4), 2): np.int64(-4), (np.int64(-4), 0): np.int64(-4), (1, 2): 1, (1, 0): 1, (np.int64(-1), 0): np.int64(3), (np.int64(3), 1): np.int64(3), (np.int64(3), 0): np.int64(3), (np.int64(3), 2): np.int64(2), (np.int64(2), 1): np.int64(0), (np.int64(-1), 1): np.int64(1), (2, 0): 2, (4, 2): 4, (4, 1): 4, (4, 0): 4, (5, 0): np.int64(9), (np.int64(9), 2): np.int64(8), (np.int64(8), 0): np.int64(4), (6, 0): np.int64(2), (np.int64(0), 2): np.int64(-1), (7, 1): 7, (7, 2): 7, (7, 0): 7}\n",
      "InitialSamplePoints: []\n"
     ]
    }
   ],
   "source": [
    "# Explore the synchronous state transition graph to find attractors, basin sizes, etc\n",
    "print('All attractors assuming a synchronous update scheme')\n",
    "attractor_info_sync = bn.get_attractors_synchronous_exact()\n",
    "for key in attractor_info_sync:\n",
    "    print(f\"{key}: {attractor_info_sync[key]}\")\n",
    "\n",
    "print()\n",
    "print('Steady states assuming an asynchronous update scheme')\n",
    "attractor_info_async = bn.get_steady_states_asynchronous(EXACT=True)\n",
    "for key in attractor_info_async:\n",
    "    print(f\"{key}: {attractor_info_async[key]}\")"
   ]
  },
  {
   "cell_type": "markdown",
   "id": "e11b73ac",
   "metadata": {},
   "source": [
    "## 3. Sensitivity & Derrida plots (if available)"
   ]
  },
  {
   "cell_type": "code",
   "execution_count": null,
   "id": "c7b6b9af",
   "metadata": {},
   "outputs": [],
   "source": [
    "# If the toolbox has Derrida or sensitivity on networks, demonstrate here\n",
    "try:\n",
    "    derrida = BN.derrida_curve(F, I, samples=200, seed=1)\n",
    "    print('Derrida (Hamming distance mapping): first 5 points ->', derrida[:5])\n",
    "except Exception as e:\n",
    "    print('Derrida utility not available:', e)"
   ]
  },
  {
   "cell_type": "markdown",
   "id": "2c60d836",
   "metadata": {},
   "source": [
    "## 4. Structural properties: in/out degree, frozen nodes, etc."
   ]
  },
  {
   "cell_type": "code",
   "execution_count": null,
   "id": "094be0d8",
   "metadata": {},
   "outputs": [],
   "source": [
    "try:\n",
    "    indeg = BN.in_degrees(I)\n",
    "    outdeg = BN.out_degrees(I, N=len(F))\n",
    "    print('in-degrees:', indeg)\n",
    "    print('out-degrees:', outdeg)\n",
    "except Exception as e:\n",
    "    print('Degree helpers not available:', e)\n",
    "\n",
    "try:\n",
    "    frozen = BN.get_frozen_nodes(F, I, samples=200, seed=0)\n",
    "    print('frozen nodes (estimated):', frozen)\n",
    "except Exception as e:\n",
    "    print('Frozen node estimator not available:', e)"
   ]
  },
  {
   "cell_type": "markdown",
   "id": "703e8173",
   "metadata": {},
   "source": [
    "## 🔧 Try it: Your network here"
   ]
  },
  {
   "cell_type": "code",
   "execution_count": null,
   "id": "01401fcf",
   "metadata": {},
   "outputs": [],
   "source": [
    "# Edit F and I to define your own network, then re-run the attractor finder above.\n",
    "F = [\n",
    "    np.array([0,1,1,1], dtype=int),  # OR(x2,x3)\n",
    "    np.array([0,1,1,0], dtype=int),  # XOR(x1,x3)\n",
    "    np.array([1,0], dtype=int)       # NOT(x1)\n",
    "]\n",
    "I = [[1,2],[0,2],[0]]\n",
    "print('Defined a new network of size', len(F))"
   ]
  }
 ],
 "metadata": {
  "kernelspec": {
   "display_name": "envpy312",
   "language": "python",
   "name": "python3"
  },
  "language_info": {
   "codemirror_mode": {
    "name": "ipython",
    "version": 3
   },
   "file_extension": ".py",
   "mimetype": "text/x-python",
   "name": "python",
   "nbconvert_exporter": "python",
   "pygments_lexer": "ipython3",
   "version": "3.12.11"
  }
 },
 "nbformat": 4,
 "nbformat_minor": 5
}
