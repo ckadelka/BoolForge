{
 "cells": [
  {
   "cell_type": "markdown",
   "id": "42074e79",
   "metadata": {},
   "source": [
    "# Boolean Functions & Networks Toolbox — Interactive Tutorials\n",
    "\n",
    "Welcome! These notebooks walk you through the main features of the provided toolbox for **analysis** and **random generation** of Boolean functions and networks (with applications to gene regulatory networks).\n",
    "\n",
    "**How to use these notebooks**\n",
    "- Run the first cell to import the toolbox from the local files you provided.\n",
    "- Each section contains small runnable examples, expected outputs, and short exercises.\n",
    "- Cells marked **🔧 Try it** are meant for you to edit and explore.\n",
    "\n",
    "> If you update the Python files, just re-run the import cell to pick up changes.\n"
   ]
  },
  {
   "cell_type": "markdown",
   "id": "40321eb1",
   "metadata": {},
   "source": [
    "## 0. Setup & Imports"
   ]
  },
  {
   "cell_type": "code",
   "execution_count": 1,
   "id": "47bd654c",
   "metadata": {},
   "outputs": [
    {
     "name": "stdout",
     "output_type": "stream",
     "text": [
      "The module cana cannot be found. Ensure it is installed to use all functionality of this toolbox.\n",
      "The module cana cannot be found. Ensure it is installed to use all functionality of this toolbox.\n"
     ]
    },
    {
     "ename": "ModuleNotFoundError",
     "evalue": "No module named 'utils'",
     "output_type": "error",
     "traceback": [
      "\u001b[1;31m---------------------------------------------------------------------------\u001b[0m",
      "\u001b[1;31mModuleNotFoundError\u001b[0m                       Traceback (most recent call last)",
      "Cell \u001b[1;32mIn[1], line 6\u001b[0m\n\u001b[0;32m      3\u001b[0m sys\u001b[38;5;241m.\u001b[39mpath\u001b[38;5;241m.\u001b[39mappend(\u001b[38;5;124m'\u001b[39m\u001b[38;5;124m../BNToolbox/\u001b[39m\u001b[38;5;124m'\u001b[39m)\n\u001b[0;32m      5\u001b[0m \u001b[38;5;28;01mimport\u001b[39;00m\u001b[38;5;250m \u001b[39m\u001b[38;5;21;01mboolforge\u001b[39;00m\u001b[38;5;21;01m.\u001b[39;00m\u001b[38;5;21;01mgenerate\u001b[39;00m\u001b[38;5;250m \u001b[39m\u001b[38;5;28;01mas\u001b[39;00m\u001b[38;5;250m \u001b[39m\u001b[38;5;21;01mGEN\u001b[39;00m\n\u001b[1;32m----> 6\u001b[0m \u001b[38;5;28;01mimport\u001b[39;00m\u001b[38;5;250m \u001b[39m\u001b[38;5;21;01mboolforge\u001b[39;00m\u001b[38;5;21;01m.\u001b[39;00m\u001b[38;5;21;01manalyze_BF\u001b[39;00m\u001b[38;5;250m \u001b[39m\u001b[38;5;28;01mas\u001b[39;00m\u001b[38;5;250m \u001b[39m\u001b[38;5;21;01mBF\u001b[39;00m\n\u001b[0;32m      7\u001b[0m \u001b[38;5;28;01mimport\u001b[39;00m\u001b[38;5;250m \u001b[39m\u001b[38;5;21;01mboolforge\u001b[39;00m\u001b[38;5;21;01m.\u001b[39;00m\u001b[38;5;21;01manalyze_BN\u001b[39;00m\u001b[38;5;250m \u001b[39m\u001b[38;5;28;01mas\u001b[39;00m\u001b[38;5;250m \u001b[39m\u001b[38;5;21;01mBN\u001b[39;00m\n\u001b[0;32m      9\u001b[0m \u001b[38;5;28mprint\u001b[39m(\u001b[38;5;124m'\u001b[39m\u001b[38;5;124mGEN functions:\u001b[39m\u001b[38;5;124m'\u001b[39m, \u001b[38;5;28mlen\u001b[39m([f \u001b[38;5;28;01mfor\u001b[39;00m f \u001b[38;5;129;01min\u001b[39;00m \u001b[38;5;28mdir\u001b[39m(GEN) \u001b[38;5;28;01mif\u001b[39;00m \u001b[38;5;28mcallable\u001b[39m(\u001b[38;5;28mgetattr\u001b[39m(GEN,f, \u001b[38;5;28;01mNone\u001b[39;00m)) \u001b[38;5;129;01mand\u001b[39;00m \u001b[38;5;129;01mnot\u001b[39;00m f\u001b[38;5;241m.\u001b[39mstartswith(\u001b[38;5;124m'\u001b[39m\u001b[38;5;124m_\u001b[39m\u001b[38;5;124m'\u001b[39m)]))\n",
      "File \u001b[1;32mc:\\Users\\benco\\AppData\\Local\\Programs\\Python\\Python313\\Lib\\site-packages\\boolforge\\analyze_BF.py:12\u001b[0m\n\u001b[0;32m     10\u001b[0m \u001b[38;5;66;03m##Imports\u001b[39;00m\n\u001b[0;32m     11\u001b[0m \u001b[38;5;28;01mimport\u001b[39;00m\u001b[38;5;250m \u001b[39m\u001b[38;5;21;01mnumpy\u001b[39;00m\u001b[38;5;250m \u001b[39m\u001b[38;5;28;01mas\u001b[39;00m\u001b[38;5;250m \u001b[39m\u001b[38;5;21;01mnp\u001b[39;00m\n\u001b[1;32m---> 12\u001b[0m \u001b[38;5;28;01mimport\u001b[39;00m\u001b[38;5;250m \u001b[39m\u001b[38;5;21;01mutils\u001b[39;00m\n\u001b[0;32m     13\u001b[0m \u001b[38;5;28;01mfrom\u001b[39;00m\u001b[38;5;250m \u001b[39m\u001b[38;5;21;01mscipy\u001b[39;00m\u001b[38;5;21;01m.\u001b[39;00m\u001b[38;5;21;01mspecial\u001b[39;00m\u001b[38;5;250m \u001b[39m\u001b[38;5;28;01mimport\u001b[39;00m binom\n\u001b[0;32m     15\u001b[0m \u001b[38;5;28;01mfrom\u001b[39;00m\u001b[38;5;250m \u001b[39m\u001b[38;5;21;01mboolean_function\u001b[39;00m\u001b[38;5;250m \u001b[39m\u001b[38;5;28;01mimport\u001b[39;00m __LOADED_CANA__\n",
      "\u001b[1;31mModuleNotFoundError\u001b[0m: No module named 'utils'"
     ]
    }
   ],
   "source": [
    "import sys, numpy as np\n",
    "sys.path.append('/mnt/data')\n",
    "sys.path.append('../BNToolbox/')\n",
    "\n",
    "import boolforge.generate as GEN\n",
    "import boolforge.analyze_BF as BF\n",
    "import boolforge.analyze_BN as BN\n",
    "\n",
    "print('GEN functions:', len([f for f in dir(GEN) if callable(getattr(GEN,f, None)) and not f.startswith('_')]))"
   ]
  },
  {
   "cell_type": "markdown",
   "id": "a5856c14",
   "metadata": {},
   "source": [
    "## 1. Random Boolean functions with constraints"
   ]
  },
  {
   "cell_type": "code",
   "execution_count": null,
   "id": "6045eb77",
   "metadata": {},
   "outputs": [],
   "source": [
    "# Examples: unbiased random function, random canalizing, random with fixed bias, etc.\n",
    "try:\n",
    "    f = GEN.random_function(n=3)  # unbiased\n",
    "    print('Random f (n=3):', f, 'bias:', BF.get_absolute_bias(f))\n",
    "except Exception as e:\n",
    "    print('random_function not available:', e)\n",
    "\n",
    "for bias in [0.25, 0.5, 0.75]:\n",
    "    try:\n",
    "        g = GEN.random_function_with_bias(n=3, bias=bias)\n",
    "        print(f'random_function_with_bias n=3 bias={bias}:', g, 'bias:', BF.get_absolute_bias(g))\n",
    "    except Exception as e:\n",
    "        print('random_function_with_bias not available for bias', bias, e)\n",
    "\n",
    "try:\n",
    "    c = GEN.random_canalizing_function(n=4)\n",
    "    print('random canalizing n=4 -> is_canalizing:', BF.is_canalizing(c))\n",
    "except Exception as e:\n",
    "    print('random_canalizing_function not available:', e)"
   ]
  },
  {
   "cell_type": "markdown",
   "id": "f721d71a",
   "metadata": {},
   "source": [
    "## 2. Random Boolean networks\n",
    "Generate random topologies and update rules subject to constraints (in/out-degree, canalization, bias, etc.)."
   ]
  },
  {
   "cell_type": "code",
   "execution_count": null,
   "id": "1b3c411c",
   "metadata": {},
   "outputs": [],
   "source": [
    "try:\n",
    "    A = GEN.random_adjacency_matrix(N=5, p=0.3, seed=1)\n",
    "    print('Adjacency matrix shape:', A.shape)\n",
    "except Exception as e:\n",
    "    print('random_adjacency_matrix not available:', e)\n",
    "\n",
    "try:\n",
    "    F, I = GEN.random_BN(N=5, K=2, seed=1)\n",
    "    print('Generated BN with N=5, K=2')\n",
    "    # Quick check: number of attractors (if available)\n",
    "    try:\n",
    "        _, nattr = BN.get_attractors_synchronous_exact(F, I)\n",
    "        print('Attractors:', nattr)\n",
    "    except Exception as e2:\n",
    "        print('Attractor utility not available:', e2)\n",
    "except Exception as e:\n",
    "    print('random_BN not available:', e)"
   ]
  },
  {
   "cell_type": "markdown",
   "id": "66274dbe",
   "metadata": {},
   "source": [
    "## 3. Reproducibility & seeds"
   ]
  },
  {
   "cell_type": "code",
   "execution_count": null,
   "id": "4151f7e2",
   "metadata": {},
   "outputs": [],
   "source": [
    "# Set seeds for reproducibility if the API supports it\n",
    "np.random.seed(42)\n",
    "try:\n",
    "    f1 = GEN.random_function(n=3)\n",
    "    f2 = GEN.random_function(n=3)\n",
    "    print('Two draws w/ same seed -> identical?', np.array_equal(f1, f2))\n",
    "except Exception as e:\n",
    "    print('Seeding behavior depends on implementation:', e)"
   ]
  },
  {
   "cell_type": "markdown",
   "id": "6e827c13",
   "metadata": {},
   "source": [
    "## 🔧 Try it: Generate many functions and summarize sensitivity distribution"
   ]
  },
  {
   "cell_type": "code",
   "execution_count": null,
   "id": "cf38ca8d",
   "metadata": {},
   "outputs": [],
   "source": [
    "# Monte Carlo sampling to estimate average sensitivity distribution for random functions on n=4\n",
    "import numpy as np\n",
    "S = []\n",
    "for _ in range(200):\n",
    "    try:\n",
    "        f = GEN.random_function(n=4)\n",
    "    except Exception:\n",
    "        # Fallback: uniform random truth table\n",
    "        f = np.random.randint(0,2,size=16)\n",
    "    try:\n",
    "        S.append(BF.get_average_sensitivity(f))\n",
    "    except Exception:\n",
    "        pass\n",
    "\n",
    "print('Collected', len(S), 'samples. Mean sensitivity ~', (np.mean(S) if S else None))"
   ]
  }
 ],
 "metadata": {
  "kernelspec": {
   "display_name": "Python 3",
   "language": "python",
   "name": "python3"
  },
  "language_info": {
   "codemirror_mode": {
    "name": "ipython",
    "version": 3
   },
   "file_extension": ".py",
   "mimetype": "text/x-python",
   "name": "python",
   "nbconvert_exporter": "python",
   "pygments_lexer": "ipython3",
   "version": "3.13.5"
  }
 },
 "nbformat": 4,
 "nbformat_minor": 5
}
